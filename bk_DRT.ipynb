{
 "cells": [
  {
   "cell_type": "markdown",
   "id": "unnecessary-serial",
   "metadata": {},
   "source": [
    "# bk_DRT"
   ]
  },
  {
   "cell_type": "code",
   "execution_count": null,
   "id": "geographic-delaware",
   "metadata": {},
   "outputs": [],
   "source": [
    "from __future__ import division \n",
    "import os\n",
    "import time\n",
    "import warnings\n",
    "import ray\n",
    "import pickle\n",
    "from pathlib import Path\n",
    "import numpy as np\n",
    "import pandas as pd\n",
    "from scipy.optimize import minimize\n",
    "import plotly.graph_objects as go\n",
    "from plotly.subplots import make_subplots\n",
    "import py_eis.run_KKopt as run_KK\n",
    "import py_eis.KKZhit as KKZhit\n",
    "import py_eis.val as valit\n",
    "import py_eis.drt as drt\n",
    "from py_eis.bc import back_calc\n",
    "from hyperopt import tpe, hp, fmin, Trials"
   ]
  },
  {
   "cell_type": "code",
   "execution_count": null,
   "id": "initial-consortium",
   "metadata": {},
   "outputs": [],
   "source": [
    "css = ['#1f77b4','#ff7f0e','#2ca02c','#d62728','#9467bd','#8c564b','#e377c2','#7f7f7f','#bcbd22','#17becf']*100"
   ]
  },
  {
   "cell_type": "code",
   "execution_count": null,
   "id": "instructional-trial",
   "metadata": {},
   "outputs": [],
   "source": [
    "def del_iframes():\n",
    "    time.sleep(.1)\n",
    "    try:\n",
    "        for iframe in os.listdir(Path('iframe_figures')):\n",
    "            try: \n",
    "                os.remove(Path('iframe_figures')/iframe)\n",
    "            except: \n",
    "                pass\n",
    "    except: pass\n",
    "del_iframes()"
   ]
  },
  {
   "cell_type": "markdown",
   "id": "framed-identity",
   "metadata": {},
   "source": [
    "# Data pre-processing"
   ]
  },
  {
   "cell_type": "markdown",
   "id": "industrial-boundary",
   "metadata": {},
   "source": [
    "- Single impedances must be in `\"folder\"` (see below)"
   ]
  },
  {
   "cell_type": "code",
   "execution_count": null,
   "id": "annoying-spell",
   "metadata": {},
   "outputs": [],
   "source": [
    "# Enter data pre-processing code here."
   ]
  },
  {
   "cell_type": "markdown",
   "id": "third-model",
   "metadata": {},
   "source": [
    "# Import"
   ]
  },
  {
   "cell_type": "markdown",
   "id": "adapted-fairy",
   "metadata": {},
   "source": [
    "- `Choose or add` custom read_in_method to read_data()."
   ]
  },
  {
   "cell_type": "code",
   "execution_count": null,
   "id": "hawaiian-wildlife",
   "metadata": {},
   "outputs": [],
   "source": [
    "def read_data(folder,file):\n",
    "    \n",
    "    read_in_method = 0\n",
    "    \n",
    "    if read_in_method == 0: # ASC, ASC2, ESC, ESC2\n",
    "        raw_data = np.load(folder/file)\n",
    "        F  = raw_data['f']\n",
    "        Zr = np.real(raw_data['Z5'])\n",
    "        Zi = np.imag(raw_data['Z5'])\n",
    "\n",
    "    data = np.array([F,Zr,Zi])\n",
    "    \n",
    "    if data[0][0] > data[0][-1]:\n",
    "        data = np.fliplr(data)\n",
    "        \n",
    "    return data "
   ]
  },
  {
   "cell_type": "markdown",
   "id": "proper-departure",
   "metadata": {},
   "source": [
    "- Add your data folder to `'EIS_data/'`"
   ]
  },
  {
   "cell_type": "code",
   "execution_count": null,
   "id": "oriented-legislature",
   "metadata": {},
   "outputs": [],
   "source": [
    "print('Folders:',os.listdir('EIS_data/'))"
   ]
  },
  {
   "cell_type": "markdown",
   "id": "liked-departure",
   "metadata": {},
   "source": [
    "- Choose `subfolder`:"
   ]
  },
  {
   "cell_type": "code",
   "execution_count": null,
   "id": "involved-russian",
   "metadata": {
    "scrolled": true
   },
   "outputs": [],
   "source": [
    "sub_folder = 'ASC2'\n",
    "#====================================================================================================\n",
    "folder = Path('EIS_data/'+sub_folder+'/')\n",
    "fl = os.listdir(folder)\n",
    "for fi, file in enumerate(fl):\n",
    "    print(fi,'-',file)"
   ]
  },
  {
   "cell_type": "markdown",
   "id": "interstate-drove",
   "metadata": {},
   "source": [
    "# EIS"
   ]
  },
  {
   "cell_type": "code",
   "execution_count": null,
   "id": "married-doctrine",
   "metadata": {},
   "outputs": [],
   "source": [
    "ii = list(range(len(fl)))"
   ]
  },
  {
   "cell_type": "code",
   "execution_count": null,
   "id": "static-disney",
   "metadata": {},
   "outputs": [],
   "source": [
    "Z_eis=pd.DataFrame()\n",
    "fig = go.Figure()\n",
    "for mi, meas in enumerate(ii):  \n",
    "    data = read_data(folder,fl[meas])  \n",
    "    fig.add_trace(go.Scatter(x = data[1], y = -data[2], mode='lines', line=dict(width=3)))\n",
    "    for col in range(3):\n",
    "        Z_eis=pd.concat([Z_eis, pd.DataFrame(data[col])],axis=1)         \n",
    "fig.update_xaxes(showline=True, mirror=True, zeroline=False, autorange=True,\n",
    "                 ticks=\"inside\",tickwidth=1, tickcolor='black', ticklen=2, title=\"Z' [\\u03A9]\")  \n",
    "fig.update_yaxes(showline=True, mirror=True, zeroline=False, autorange=True,\n",
    "                 ticks=\"inside\",tickwidth=1, tickcolor='black',ticklen=2, title=\"-Z'' [\\u03A9]\")  \n",
    "fig.update_layout(template=None,height=360,width=600,font=dict(family='Arial',size=16),\n",
    "                  margin=dict(l=80, r=10, b=50,t=50, pad=0), \n",
    "                  legend=dict(x=1.01,y=1.005,bgcolor=\"white\",bordercolor=\"Black\",borderwidth=0))   \n",
    "fig.show(renderer='iframe_connected')"
   ]
  },
  {
   "cell_type": "markdown",
   "id": "fatty-sperm",
   "metadata": {},
   "source": [
    "# KK"
   ]
  },
  {
   "cell_type": "markdown",
   "id": "grateful-frontier",
   "metadata": {},
   "source": [
    "- Set `threshold` and `frequency range` for KK test."
   ]
  },
  {
   "cell_type": "code",
   "execution_count": null,
   "id": "guided-eating",
   "metadata": {},
   "outputs": [],
   "source": [
    "KK_threshold = .05 \n",
    "f_min, f_max = 1, 1000"
   ]
  },
  {
   "cell_type": "code",
   "execution_count": null,
   "id": "single-gathering",
   "metadata": {
    "scrolled": true
   },
   "outputs": [],
   "source": [
    "for mi, meas in enumerate(ii):\n",
    "    fig_KK = make_subplots(rows=1, cols=2) \n",
    "    data = read_data(folder,fl[meas]) \n",
    "    F, Zr, Zi  = data[0], data[1], data[2]\n",
    "    datap, datap_raw = run_KK.run_KK(F,Zr,Zi,KK_threshold,f_min,f_max)   \n",
    "     \n",
    "    fig_KK.add_trace(go.Scatter(x = fig['data'][mi]['x'], y = fig['data'][mi]['y'], name = \"Curve #\"+str(mi), \n",
    "                                mode='lines', line=dict(color = css[mi], width=4)), row=1, col=1)\n",
    "    fig_KK.add_trace(go.Scatter(x = np.real(datap['Z']), y = -np.imag(datap['Z']), name = \"Curve #\"+str(mi), \n",
    "                                mode='markers', marker=dict(size=8, color='lightblue', symbol='circle-open')), row=1,col=1)  \n",
    "    fig_KK.add_trace(go.Scatter(x = datap_raw['F'], y = np.real(datap_raw['Z'])/np.real(datap_raw['ZrKK'])-1, name = \"Z'\", \n",
    "                                mode='lines', line=dict(color = css[mi], width=4)), row=1, col=2)\n",
    "    fig_KK.add_trace(go.Scatter(x = datap['F'], y = np.real(datap['Z'])/datap['ZrKK']-1, name = \"Z' (KK)\",\n",
    "                                mode='markers',marker=dict(size=8, color = 'lightblue', symbol='circle-open')),row=1,col=2)\n",
    "    fig_KK.add_trace(go.Scatter(x = [0,10**6], y = [KK_threshold]*2, name= 'Threshold',\n",
    "                                mode='lines', line=dict(dash='dash',color='black')), row=1,col=2)\n",
    "    fig_KK.add_trace(go.Scatter(x = [0,10**6], y = [-KK_threshold]*2, name= 'Threshold',\n",
    "                                mode='lines', line=dict(dash='dash',color='black')), row=1,col=2)\n",
    "    fm = np.array(datap_raw['F'][::-1])[np.where(np.imag(datap_raw['Z'])[::-1]<0)[0][0]]\n",
    "    fig_KK.add_trace(go.Scatter(x = [fm, fm], y = [-1,1], name = \"f_lim (Z''<0)\",\n",
    "                                mode='lines',line=dict(dash='dot',color='magenta')),row=1,col=2)\n",
    "    fig_KK.update_xaxes(showline=True, mirror=True, zeroline=False,\n",
    "                 ticks=\"inside\",tickwidth=1, tickcolor='black', ticklen=2, title=\"Z' [\\u03A9]\",row=1,col=1)   \n",
    "    fig_KK.update_yaxes(showline=True, mirror=True, zeroline=False,\n",
    "                 ticks=\"inside\",tickwidth=1, tickcolor='black',ticklen=2, title=\"-Z'' [\\u03A9]\",row=1,col=1) \n",
    "    fig_KK.update_xaxes(showline=True, mirror=True, zeroline=False, range=[-2,5],type='log',dtick=1,\n",
    "                 ticks=\"inside\",tickwidth=1, tickcolor='black', ticklen=2, title=\"f [Hz]\",row=1,col=2)   \n",
    "    fig_KK.update_yaxes(showline=True, mirror=True, zeroline=False, range=[-.2,.2],\n",
    "                 ticks=\"inside\",tickwidth=1, tickcolor='black',ticklen=2, title=\"rel. error [%]\",row=1,col=2) \n",
    "    fig_KK.update_layout(template=None,height=360,width=900,font=dict(family='Arial',size=16),\n",
    "                         margin=dict(l=80, r=10, b=50,t=50, pad=0), \n",
    "                         legend=dict(x=1.01,y=1.005,bgcolor=\"white\",bordercolor=\"Black\",borderwidth=1)) \n",
    "    fig_KK.show(renderer='iframe_connected')\n",
    "    time.sleep(1)"
   ]
  },
  {
   "cell_type": "markdown",
   "id": "generous-strap",
   "metadata": {},
   "source": [
    "# DRT"
   ]
  },
  {
   "cell_type": "markdown",
   "id": "wanted-works",
   "metadata": {},
   "source": [
    "- If possible, adjust 'step' so that the `number of frequencies` around 60."
   ]
  },
  {
   "cell_type": "code",
   "execution_count": null,
   "id": "french-notice",
   "metadata": {
    "scrolled": false
   },
   "outputs": [],
   "source": [
    "step = 6\n",
    "print('Number of frequencies = ',len(datap[::step]))"
   ]
  },
  {
   "cell_type": "markdown",
   "id": "pressing-industry",
   "metadata": {},
   "source": [
    "- `Frequency range` for DRT calculation.\n",
    "- `DRT coefficients`."
   ]
  },
  {
   "cell_type": "code",
   "execution_count": null,
   "id": "antique-vienna",
   "metadata": {},
   "outputs": [],
   "source": [
    "f_lim = [.01,10000]\n",
    "lam = 5\n",
    "shape = 1\n",
    "drt_coeffs = [1/(10**lam),shape,0]"
   ]
  },
  {
   "cell_type": "code",
   "execution_count": null,
   "id": "sapphire-domestic",
   "metadata": {
    "scrolled": true
   },
   "outputs": [],
   "source": [
    "def drt_master(f_lim,step,drt_coeffs,KK_threshold,ii,folder,fl,f_min,f_max,roy=True):\n",
    "    x, counter = 0, 0\n",
    "    while x == 0 and counter < 3:\n",
    "        try:\n",
    "            if roy == True:\n",
    "                ray.shutdown()\n",
    "                time.sleep(1)\n",
    "                ray.init(num_cpus=3,ignore_reinit_error=True)\n",
    "                time.sleep(1)\n",
    "            @ray.remote\n",
    "            def drt_calc(data,drt_coeffs):\n",
    "                warnings.filterwarnings(\"ignore\")\n",
    "                gg,tt = drt.drt(data[1]+data[2]*1j,data[0],lam=drt_coeffs[0],coeff=drt_coeffs[1],L=drt_coeffs[2]) \n",
    "                obj = [gg,tt]\n",
    "                return obj\n",
    "            data_list, input_list = [], []\n",
    "            for mi, meas in enumerate(ii):\n",
    "                data = read_data(folder,fl[meas]) \n",
    "                F, Zr, Zi  = data[0], data[1], data[2]\n",
    "                datap, datap_raw = run_KK.run_KK(F,Zr,Zi,KK_threshold,f_min,f_max)           \n",
    "                dataf = datap[(datap['F']>=f_lim[0])&(datap['F']<=f_lim[1])][::step]\n",
    "                dataKK = np.array([dataf['F'],np.real(dataf['Z']),np.imag(dataf['Z'])])\n",
    "                data_save = np.array([datap['F'],np.real(datap['Z']),np.imag(datap['Z'])])\n",
    "                data_list.append(data_save)\n",
    "                input_list.append(drt_calc.remote(dataKK,drt_coeffs))\n",
    "            output_list = []\n",
    "            for ipt in input_list:\n",
    "                output_list.append(ray.get([ipt]))\n",
    "            if roy == True:\n",
    "                ray.shutdown()\n",
    "            x = 1\n",
    "        except: counter +=1\n",
    "    return data_list, output_list\n",
    "data_list, output_list = drt_master(f_lim,step,drt_coeffs,KK_threshold,ii,folder,fl,f_min,f_max)"
   ]
  },
  {
   "cell_type": "code",
   "execution_count": null,
   "id": "accepting-thumb",
   "metadata": {},
   "outputs": [],
   "source": [
    "Z_drt = pd.DataFrame()\n",
    "fig_drt = go.Figure()\n",
    "for out in output_list:\n",
    "    for obj in out:\n",
    "        fig_drt.add_trace(go.Scatter(x = np.power(obj[1],-1),y = obj[0],mode='lines',line=dict(width=3)))\n",
    "        Z_drt=pd.concat([Z_drt, pd.DataFrame(np.power(obj[1],-1))],axis=1)\n",
    "        Z_drt=pd.concat([Z_drt, pd.DataFrame(obj[0])],axis=1)\n",
    "        \n",
    "fig_drt.update_xaxes(showline=True, mirror=True, zeroline=False,range=[-3, 5],\n",
    "                     type='log',dtick=1,ticks=\"inside\",tickwidth=1, tickcolor='black', ticklen=2, title=\"f [Hz]\")   \n",
    "fig_drt.update_yaxes(showline=True, mirror=True, zeroline=False, range=[0,.006],\n",
    "                     ticks=\"inside\",tickwidth=1, tickcolor='black',ticklen=2, \n",
    "                     title=\"r'$\\displaystyle\\frac{1}{f}G\\left(\\displaystyle\\frac{1}{f}\\right)[m\\Omega]$'\")         \n",
    "fig_drt.update_layout(template=None,height=360,width=600,font=dict(family='Arial',size=16),\n",
    "                      margin=dict(l=80, r=10, b=50,t=50, pad=0))\n",
    "fig_drt.show(renderer='iframe_connected')"
   ]
  },
  {
   "cell_type": "markdown",
   "id": "alike-philadelphia",
   "metadata": {},
   "source": [
    "# Validation"
   ]
  },
  {
   "cell_type": "code",
   "execution_count": null,
   "id": "lasting-jones",
   "metadata": {
    "scrolled": true
   },
   "outputs": [],
   "source": [
    "for oi, out in enumerate(output_list):\n",
    "    for obj in out:    \n",
    "        bc = back_calc(obj[0],obj[1])   \n",
    "        shift,Fq_red,Z_data,add_shift,bc_shifted,points,diff,res,error,error_lines = valit.validation(data_list,oi,bc)\n",
    "        fig_bc =  make_subplots(rows=1, cols=2)\n",
    "        fig_bc.add_trace(go.Scatter(x=data_list[oi][1], y=-data_list[oi][2], name= \"Curve #\"+str(oi),\n",
    "                                    mode='lines', line=dict(color = css[oi], width=4)),row=1,col=1) \n",
    "        fig_bc.add_trace(go.Scatter(x=Fq_red,y=diff, name = \"Deviation\",\n",
    "                                    mode='lines+markers',marker=dict(size=8, color = 'lightgrey', symbol='circle')),row=1,col=2)      \n",
    "        fig_bc.add_trace(go.Scatter(x=(np.real(bc_shifted))[::20],y=-np.imag(bc_shifted)[::20], name = \"Backcalc\",\n",
    "                                    mode='markers',marker=dict(size=8, color = 'lightblue', symbol='circle-open')),row=1,col=1)              \n",
    "        fig_bc.add_trace(go.Scatter(x=[0.01,100000],y=[0.01,0.01],name='L_upper',\n",
    "                                    mode='lines',line=dict(dash='dash',color='black')),row=1,col=2)\n",
    "        fig_bc.add_trace(go.Scatter(x=[0.01,100000],y=[-0.01,-0.01],name='L_lower',\n",
    "                                    mode='lines',line=dict(dash='dash',color='black')),row=1,col=2)      \n",
    "        fig_bc.update_xaxes(showline=True, mirror=True, zeroline=False,\n",
    "                 ticks=\"inside\",tickwidth=1, tickcolor='black', ticklen=2, title=\"Z' [\\u03A9]\",row=1,col=1)   \n",
    "        fig_bc.update_yaxes(showline=True, mirror=True, zeroline=False,\n",
    "                 ticks=\"inside\",tickwidth=1, tickcolor='black',ticklen=2, title=\"-Z'' [\\u03A9]\",row=1,col=1) \n",
    "        fig_bc.update_xaxes(showline=True, mirror=True, zeroline=False,type='log',range=[-2,5],dtick=1,\n",
    "                 ticks=\"inside\",tickwidth=1, tickcolor='black', ticklen=2, title=\"f [Hz]\",row=1,col=2)   \n",
    "        fig_bc.update_yaxes(showline=True, mirror=True, zeroline=True,range=[-0.1,0.1],\n",
    "                 ticks=\"inside\",tickwidth=1, tickcolor='black',ticklen=2, title=\"Deviation [m\\u03A9]\",row=1,col=2)    \n",
    "        fig_bc.update_layout(template=None,height=270,width=920,font=dict(family='Arial',size=16),\n",
    "                         margin=dict(l=80, r=10, b=50,t=50, pad=0),\n",
    "                         legend=dict(x=1.01,y=1.005,bgcolor=\"white\",bordercolor=\"Black\",borderwidth=1)) \n",
    "        time.sleep(.2)\n",
    "        fig_bc.show(renderer='iframe_connected')"
   ]
  },
  {
   "cell_type": "markdown",
   "id": "cultural-comedy",
   "metadata": {},
   "source": [
    "# DRTopt"
   ]
  },
  {
   "cell_type": "markdown",
   "id": "humanitarian-system",
   "metadata": {},
   "source": [
    " - Create `custom \"ii\" list` if not all values should be used for optimization. \n",
    " - `Number of evaluations` for optimization.\n",
    " - `Create a new file` or continue with an old one.\n",
    " - Adapt `space` as desired."
   ]
  },
  {
   "cell_type": "code",
   "execution_count": null,
   "id": "dense-animal",
   "metadata": {},
   "outputs": [],
   "source": [
    "if False:\n",
    "    ii = []\n",
    "    \n",
    "evals = 10\n",
    "create_new_file = True"
   ]
  },
  {
   "cell_type": "code",
   "execution_count": null,
   "id": "advised-ferry",
   "metadata": {
    "scrolled": true
   },
   "outputs": [],
   "source": [
    "%%time\n",
    "def objective(params):   \n",
    "    x, y = params['x'], params['y']\n",
    "    data_list, output_list = drt_master(f_lim,step,[1/(10**x),y,0],KK_threshold,ii,folder,fl,f_min,f_max,False)     \n",
    "    qual_list, qual = [], None\n",
    "    for oi, out in enumerate(output_list):\n",
    "        for obj in out:   \n",
    "            bc = back_calc(obj[0],obj[1])   \n",
    "            shift,Fq_red,Z_data,add_shift,bc_shifted,points,diff,res,error,error_lines = valit.validation(data_list,oi,bc)\n",
    "            qual = error/len(error_lines.columns)*1000\n",
    "        if qual is None: \n",
    "            qual = np.nan\n",
    "        qual_list.append(qual)\n",
    "    qual = np.mean(qual_list)\n",
    "    return qual\n",
    "space = {'x': hp.quniform('x', 1, 6, q=1),'y': hp.quniform('y', 1, 6, q=1)}\n",
    "if create_new_file == True: trials = Trials()\n",
    "else: trials = pickle.load(open(\"my_results.pkl\", \"rb\"))\n",
    "max_evals, step2 = evals, 1\n",
    "\n",
    "ray.shutdown()\n",
    "time.sleep(1)\n",
    "ray.init(num_cpus=3,ignore_reinit_error=True)\n",
    "time.sleep(1)\n",
    "for i in range(1, max_evals + 1, step2):\n",
    "    best = fmin(fn=objective,space=space,algo=tpe.suggest,trials=trials,max_evals=i)\n",
    "    print(best)\n",
    "    file_string = \"my_results.pkl\"\n",
    "    pickle.dump(trials, open(file_string, \"wb\"))\n",
    "ray.shutdown()"
   ]
  },
  {
   "cell_type": "markdown",
   "id": "loving-packaging",
   "metadata": {},
   "source": [
    "- Adjust `marker size` if necessary."
   ]
  },
  {
   "cell_type": "code",
   "execution_count": null,
   "id": "hybrid-immunology",
   "metadata": {
    "scrolled": false
   },
   "outputs": [],
   "source": [
    "best = pickle.load(open(\"my_results.pkl\", \"rb\"))\n",
    "loss_list, val_list1, val_list2 = [],[],[]\n",
    "for b in list(best):\n",
    "    loss_list.append(b['result']['loss'])\n",
    "    val_list1.append(b['misc']['vals']['x'][0])\n",
    "    val_list2.append(b['misc']['vals']['y'][0])\n",
    "rst = pd.DataFrame([loss_list, val_list1,val_list2]).transpose().sort_values(by=[0]).reset_index(drop=True).iloc[:100,:]\n",
    "col_list=[]\n",
    "for i in range(int(len(rst)/10)):\n",
    "    for j in range(10): col_list.append(css[i])\n",
    "for k in range(len(rst)%10): col_list.append(css[i+1])\n",
    "\n",
    "fig_l = go.Figure()\n",
    "for vi in range(len(rst)):\n",
    "    row=rst.loc[vi]\n",
    "    try: fig_l.add_trace(go.Scatter(x=[row[1]],y=[row[2]],mode='markers',marker=dict(size=10**4*row[0],\n",
    "                                                                                     symbol='circle',color=col_list[vi])))\n",
    "    except: pass    \n",
    "fig_l.update_xaxes(showline=True, mirror=True, zeroline=False,range=[0,7],dtick=1,\n",
    "                   ticks=\"inside\",tickwidth=1, tickcolor='black', ticklen=2, title=\"DRT param. I\")   \n",
    "fig_l.update_yaxes(showline=True, mirror=True, zeroline=False,range=[0,7],dtick=1,\n",
    "                   ticks=\"inside\",tickwidth=1, tickcolor='black',ticklen=2, title=\"DRT param. II\")         \n",
    "fig_l.update_layout(template=None,height=360,width=900,font=dict(family='Arial',size=16),\n",
    "                    margin=dict(l=80, r=10, b=50,t=50, pad=0))\n",
    "rst.columns = ['mean loss','DRT param. I','DRT param. II']\n",
    "print(rst.iloc[:10,:])\n",
    "fig_l.show(renderer='iframe_connected')"
   ]
  },
  {
   "cell_type": "markdown",
   "id": "under-pressing",
   "metadata": {},
   "source": [
    "# Save data"
   ]
  },
  {
   "cell_type": "code",
   "execution_count": null,
   "id": "changing-mechanism",
   "metadata": {
    "scrolled": true
   },
   "outputs": [],
   "source": [
    "Z_eis.columns = ['F','Zr','Zi']*len(output_list)\n",
    "raw_input = input('Save to pickle? ')\n",
    "if raw_input == 'y':    \n",
    "    file_name=input('Filename: ')\n",
    "    df_file=Z_eis\n",
    "    pkl_folder = Path(\"pickles/\")\n",
    "    df_file.to_pickle(pkl_folder/file_name)\n",
    "    print('File saved.')"
   ]
  },
  {
   "cell_type": "code",
   "execution_count": null,
   "id": "multiple-sustainability",
   "metadata": {},
   "outputs": [],
   "source": [
    "Z_drt.columns = ['F','Z']*len(output_list)\n",
    "raw_input = input('Save to pickle? ')\n",
    "if raw_input == 'y':    \n",
    "    file_name=input('Filename: ')\n",
    "    df_file=Z_drt\n",
    "    pkl_folder = Path(\"pickles/\")\n",
    "    df_file.to_pickle(pkl_folder/file_name)\n",
    "    print('File saved.')"
   ]
  },
  {
   "cell_type": "code",
   "execution_count": null,
   "id": "dominican-writing",
   "metadata": {},
   "outputs": [],
   "source": []
  }
 ],
 "metadata": {
  "kernelspec": {
   "display_name": "Python 3",
   "language": "python",
   "name": "python3"
  },
  "language_info": {
   "codemirror_mode": {
    "name": "ipython",
    "version": 3
   },
   "file_extension": ".py",
   "mimetype": "text/x-python",
   "name": "python",
   "nbconvert_exporter": "python",
   "pygments_lexer": "ipython3",
   "version": "3.7.10"
  }
 },
 "nbformat": 4,
 "nbformat_minor": 5
}
